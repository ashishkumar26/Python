{
  "nbformat": 4,
  "nbformat_minor": 0,
  "metadata": {
    "colab": {
      "name": "Python-Trics.ipynb",
      "provenance": [],
      "collapsed_sections": [],
      "include_colab_link": true
    },
    "kernelspec": {
      "name": "python3",
      "display_name": "Python 3"
    }
  },
  "cells": [
    {
      "cell_type": "markdown",
      "metadata": {
        "id": "view-in-github",
        "colab_type": "text"
      },
      "source": [
        "<a href=\"https://colab.research.google.com/github/ashishkumar26/Python/blob/master/Python_Tips%26Trics.ipynb\" target=\"_parent\"><img src=\"https://colab.research.google.com/assets/colab-badge.svg\" alt=\"Open In Colab\"/></a>"
      ]
    },
    {
      "cell_type": "markdown",
      "metadata": {
        "id": "2IJOtx_KKXwv",
        "colab_type": "text"
      },
      "source": [
        ""
      ]
    },
    {
      "cell_type": "markdown",
      "metadata": {
        "id": "Iy74D_ndKZHw",
        "colab_type": "text"
      },
      "source": [
        "### 1.  Concatenating Strings\n",
        "When you need to concatenate a list of strings, you can do this using a for loop by adding each element one by one. However, this would be very inefficient, especially if the list is long. In Python, strings are immutable, and thus the left and right strings would have to be copied into the new string for every pair of concatenation.\n",
        "\n",
        "A better approach is to use the join() function as shown below:\n"
      ]
    },
    {
      "cell_type": "code",
      "metadata": {
        "id": "6z3tEPMlKbUA",
        "colab_type": "code",
        "colab": {
          "base_uri": "https://localhost:8080/",
          "height": 34
        },
        "outputId": "8dfd2a4b-900a-4a2c-8c46-71f30115a244"
      },
      "source": [
        "characters = ['p', 'y', 't', 'h', 'o', 'n']\n",
        "word = \"\".join(characters)\n",
        "print(word) # python"
      ],
      "execution_count": 1,
      "outputs": [
        {
          "output_type": "stream",
          "text": [
            "python\n"
          ],
          "name": "stdout"
        }
      ]
    },
    {
      "cell_type": "markdown",
      "metadata": {
        "id": "GD4p3877Kntg",
        "colab_type": "text"
      },
      "source": [
        "### 2. Using List Comprehensions\n",
        "List comprehensions are used for creating new lists from other iterables. As list comprehensions returns lists, they consist of brackets containing the expression, which is executed for each element along with the for loop to iterate over each element. List comprehension is faster because it is optimized for the Python interpreter to spot a predictable pattern during looping.\n",
        "As an example let’s find the squares of the first five whole numbers using list comprehensions."
      ]
    },
    {
      "cell_type": "code",
      "metadata": {
        "id": "Z519bFo-Kncc",
        "colab_type": "code",
        "colab": {
          "base_uri": "https://localhost:8080/",
          "height": 34
        },
        "outputId": "d4620bcc-6288-4f66-d224-72305dd82c17"
      },
      "source": [
        "m = [x ** 2 for x in range(5)]\n",
        "print(m) # [0, 1, 4, 9, 16]"
      ],
      "execution_count": 2,
      "outputs": [
        {
          "output_type": "stream",
          "text": [
            "[0, 1, 4, 9, 16]\n"
          ],
          "name": "stdout"
        }
      ]
    },
    {
      "cell_type": "markdown",
      "metadata": {
        "id": "1G6X7oMEK5RS",
        "colab_type": "text"
      },
      "source": [
        "Now let’s find the common numbers from two list using list comprehension"
      ]
    },
    {
      "cell_type": "code",
      "metadata": {
        "id": "NynJq42dK2BK",
        "colab_type": "code",
        "colab": {
          "base_uri": "https://localhost:8080/",
          "height": 34
        },
        "outputId": "c9c37428-0487-495d-b167-a1fd99af9dd0"
      },
      "source": [
        "list_a = [1, 2, 3, 4]\n",
        "list_b = [2, 3, 4, 5]\n",
        "common_num = [a for a in list_a for b in list_b if a == b]\n",
        "print(common_num) # [2, 3, 4]"
      ],
      "execution_count": 3,
      "outputs": [
        {
          "output_type": "stream",
          "text": [
            "[2, 3, 4]\n"
          ],
          "name": "stdout"
        }
      ]
    },
    {
      "cell_type": "markdown",
      "metadata": {
        "id": "owM-5jxhLAC8",
        "colab_type": "text"
      },
      "source": [
        "### 3. Iterate With enumerate()\n",
        "Enumerate() method adds a counter to an iterable and returns it in a form of enumerate object.\n",
        "Let’s solve the classic coding interview question named popularly as the Fizz Buzz problem.\n",
        "Write a program that prints the numbers in a list, for multiples of ‘3’ print “fizz” instead of the number, for the multiples of ‘5’ print “buzz” and for multiples of both 3 and 5 it prints “fizzbuzz”."
      ]
    },
    {
      "cell_type": "code",
      "metadata": {
        "id": "OiEt8aeRLCQb",
        "colab_type": "code",
        "colab": {
          "base_uri": "https://localhost:8080/",
          "height": 34
        },
        "outputId": "6a27c6c9-7684-49ca-f0be-6c9136052f1c"
      },
      "source": [
        "numbers = [30, 42, 28, 50, 15]\n",
        "for i, num in enumerate(numbers):\n",
        "    if num % 3 == 0 and num % 5 == 0:\n",
        "       numbers[i] = 'fizzbuzz'\n",
        "    elif num % 3 == 0:\n",
        "       numbers[i] = 'fizz'\n",
        "    elif num % 5 == 0:\n",
        "       numbers[i] = 'buzz'\n",
        "print(numbers) # ['fizzbuzz', 'fizz', 28, 'buzz', 'fizzbuzz']"
      ],
      "execution_count": 4,
      "outputs": [
        {
          "output_type": "stream",
          "text": [
            "['fizzbuzz', 'fizz', 28, 'buzz', 'fizzbuzz']\n"
          ],
          "name": "stdout"
        }
      ]
    },
    {
      "cell_type": "markdown",
      "metadata": {
        "id": "3SSa9NMGLJEb",
        "colab_type": "text"
      },
      "source": [
        "### 4. Using ZIP When Working with Lists\n",
        "Suppose you were given a task to combine several lists with the same length and print out the result? Again, here is a more generic way to get the desired result by utilizing zip()as shown in the code below:"
      ]
    },
    {
      "cell_type": "code",
      "metadata": {
        "id": "Vkoif2xcLNGR",
        "colab_type": "code",
        "colab": {
          "base_uri": "https://localhost:8080/",
          "height": 68
        },
        "outputId": "afca5d3b-9f57-4a57-c5e6-f1f8feec5292"
      },
      "source": [
        "countries = ['France', 'Germany', 'Canada']\n",
        "capitals = ['Paris', 'Berlin', 'Ottawa']\n",
        "for country, capital in zip(countries,capitals):\n",
        "    print(country, capital) # France Paris \n",
        "                            #  Germany Berlin\n",
        "                            #  Canada Ottawa"
      ],
      "execution_count": 6,
      "outputs": [
        {
          "output_type": "stream",
          "text": [
            "France Paris\n",
            "Germany Berlin\n",
            "Canada Ottawa\n"
          ],
          "name": "stdout"
        }
      ]
    },
    {
      "cell_type": "markdown",
      "metadata": {
        "id": "uO6dpG7ELoCk",
        "colab_type": "text"
      },
      "source": [
        "### 5. Using itertools\n",
        "The Python itertools module is a collection of tools for handling iterators. itertools has multiple tools for generating iterable sequences of input data. Here I will be using itertools.combinations() as an example. itertools.combinations() is used for building combinations. These are also the possible groupings of the input values.\n",
        "Let’s take a real world example to make the above point clear.\n",
        "Suppose there are four teams playing in a tournament. In the league stages every team plays against every other team. Your task is to generate all the possible teams that would compete against each other.\n",
        "Let’s take a look at the code below:"
      ]
    },
    {
      "cell_type": "code",
      "metadata": {
        "id": "dfP1NlRPLqzE",
        "colab_type": "code",
        "colab": {
          "base_uri": "https://localhost:8080/",
          "height": 119
        },
        "outputId": "fc127b51-d62f-4bb0-932e-cd3b4b119808"
      },
      "source": [
        "import itertools\n",
        "friends = ['Team 1', 'Team 2', 'Team 3', 'Team 4']\n",
        "list(itertools.combinations(friends, r=2)) # [('Team 1', 'Team 2'),      ('Team 1', 'Team 3'),  ('Team 1', 'Team 4'),  ('Team 2', 'Team 3'),  ('Team 2', 'Team 4'),  ('Team 3', 'Team 4')]"
      ],
      "execution_count": 7,
      "outputs": [
        {
          "output_type": "execute_result",
          "data": {
            "text/plain": [
              "[('Team 1', 'Team 2'),\n",
              " ('Team 1', 'Team 3'),\n",
              " ('Team 1', 'Team 4'),\n",
              " ('Team 2', 'Team 3'),\n",
              " ('Team 2', 'Team 4'),\n",
              " ('Team 3', 'Team 4')]"
            ]
          },
          "metadata": {
            "tags": []
          },
          "execution_count": 7
        }
      ]
    },
    {
      "cell_type": "markdown",
      "metadata": {
        "id": "oYuvY7T4LyDo",
        "colab_type": "text"
      },
      "source": [
        "The important thing to notice is that order of the values doesn’t matter. Because ('Team 1', 'Team 2') and ('Team 2', 'Team 1') represent the same pair, only one of them would be included in the output list. Similarly we can use itertools.permutations() as well as other functions from the module."
      ]
    },
    {
      "cell_type": "markdown",
      "metadata": {
        "id": "XpxhwZxGLzAH",
        "colab_type": "text"
      },
      "source": [
        "### 6. Using Python Collections\n",
        "Python collections are container data types, namely lists, sets, tuples, dictionary. The collections module provides high-performance datatypes that can enhance your code, making things much cleaner and easier. There are a lot of functions provided by the collections module. \n",
        "The Counter() function takes an iterable, such as a list or tuple, and returns a Counter Dictionary. The dictionary’s keys will be the unique elements present in the iterable, and the values for each key will be the count of the elements present in the iterable.\n",
        "To create a counter object, pass an iterable (list) to Counter() function as shown in the code below."
      ]
    },
    {
      "cell_type": "code",
      "metadata": {
        "id": "VC5nTUCbL4F1",
        "colab_type": "code",
        "colab": {
          "base_uri": "https://localhost:8080/",
          "height": 34
        },
        "outputId": "8f9637ac-6ef6-4f52-cbb8-03f4c00bf04c"
      },
      "source": [
        "from collections import Counter\n",
        "count = Counter(['a','b','c','d','b','c','d','b'])\n",
        "print(count) # Counter({'b': 3, 'c': 2, 'd': 2, 'a': 1})"
      ],
      "execution_count": 12,
      "outputs": [
        {
          "output_type": "stream",
          "text": [
            "Counter({'b': 3, 'c': 2, 'd': 2, 'a': 1})\n"
          ],
          "name": "stdout"
        }
      ]
    },
    {
      "cell_type": "markdown",
      "metadata": {
        "id": "NM0FtChvM3i0",
        "colab_type": "text"
      },
      "source": [
        "Similarly we can pass a string to Counter() function as shown in the code below."
      ]
    },
    {
      "cell_type": "code",
      "metadata": {
        "id": "ucjhf8q7M4TL",
        "colab_type": "code",
        "colab": {
          "base_uri": "https://localhost:8080/",
          "height": 34
        },
        "outputId": "dcd462a0-53c9-4ef3-fabc-6c531e0fe311"
      },
      "source": [
        "count = Counter(\"collections\")\n",
        "print(count) # Counter({'c': 2, 'o': 2, 'l': 2, 'e': 1, 't': 1, 'i': 1, 'n': 1, 's': 1})"
      ],
      "execution_count": 13,
      "outputs": [
        {
          "output_type": "stream",
          "text": [
            "Counter({'c': 2, 'o': 2, 'l': 2, 'e': 1, 't': 1, 'i': 1, 'n': 1, 's': 1})\n"
          ],
          "name": "stdout"
        }
      ]
    },
    {
      "cell_type": "markdown",
      "metadata": {
        "id": "-P2J9iOTM7g0",
        "colab_type": "text"
      },
      "source": [
        "### 7. Convert Two Lists Into a Dictionary\n",
        "Let’s say we have two lists, one list contains names of the students and second contains marks scored by them. Let’s see how we can convert those two lists into a single dictionary. Using the zip function, this can be done using the code below:"
      ]
    },
    {
      "cell_type": "code",
      "metadata": {
        "id": "IxLPX2QINAbR",
        "colab_type": "code",
        "colab": {
          "base_uri": "https://localhost:8080/",
          "height": 34
        },
        "outputId": "a853f157-835b-45ef-d6b5-30cc4d1ea542"
      },
      "source": [
        "students = [\"Peter\", \"Julia\", \"Alex\"]\n",
        "marks = [84, 65, 77]\n",
        "dictionary = dict(zip(students, marks))\n",
        "print(dictionary) # {'Peter': 84, 'Julia': 65, 'Alex': 77}"
      ],
      "execution_count": 14,
      "outputs": [
        {
          "output_type": "stream",
          "text": [
            "{'Peter': 84, 'Julia': 65, 'Alex': 77}\n"
          ],
          "name": "stdout"
        }
      ]
    },
    {
      "cell_type": "markdown",
      "metadata": {
        "id": "fyCl6Q1UNDC2",
        "colab_type": "text"
      },
      "source": [
        "### 8. Using Python Generators\n",
        "Generator functions allow you to declare a function that behaves like an iterator. They allow programmers to make an iterator in a fast, easy, and clean way. Let’s take an example to explain this concept.\n",
        "Suppose you’ve been given to find the sum of the first 100000000 perfect squares, starting with 1.\n",
        "Looks easy right? This can easily be done using list comprehension but the problem is the large inputs size. As an example let’s take a look at the below code:"
      ]
    },
    {
      "cell_type": "code",
      "metadata": {
        "id": "zfW9GDJJNKW8",
        "colab_type": "code",
        "colab": {
          "base_uri": "https://localhost:8080/",
          "height": 85
        },
        "outputId": "49dbe89f-22f1-4be7-c1c7-7ed7faac6543"
      },
      "source": [
        "import time\n",
        "t1 = time.clock()\n",
        "sum([i * i for i in range(1, 100000000)])\n",
        "t2 = time.clock()\n",
        "time_diff = t2 - t1\n",
        "print(\"It took {0} Secs to execute this method\".format(time_diff)) \n",
        "print(\"It took {x} Secs to execute this method\".format(x=time_diff)) \n",
        "print(\"It took {} Secs to execute this method\".format(time_diff)) \n",
        "print(f\"It took {time_diff} Secs to execute this method\")"
      ],
      "execution_count": 26,
      "outputs": [
        {
          "output_type": "stream",
          "text": [
            "It took 12.457402000000002 Secs to execute this method\n",
            "It took 12.457402000000002 Secs to execute this method\n",
            "It took 12.457402000000002 Secs to execute this method\n",
            "It took 12.457402000000002 Secs to execute this method\n"
          ],
          "name": "stdout"
        }
      ]
    },
    {
      "cell_type": "markdown",
      "metadata": {
        "id": "-gKRF2uwQb6a",
        "colab_type": "text"
      },
      "source": [
        "On increasing the perfect numbers we need to sum over, we realize that this method is not feasible due to higher computation time. Here’s where Python Generators come to the rescue. On replacing the brackets with parentheses we change the list comprehension into a generator expression. Now let’s calculate the time taken:\n"
      ]
    },
    {
      "cell_type": "code",
      "metadata": {
        "id": "dNfoLtYtNls4",
        "colab_type": "code",
        "colab": {
          "base_uri": "https://localhost:8080/",
          "height": 34
        },
        "outputId": "174a01fd-f64c-4065-f680-ae7cdc8f7df3"
      },
      "source": [
        "t1 = time.clock()\n",
        "sum((i * i for i in range(1, 100000000))) # Here instead fo square bracket parentheses is used to increase the performance.\n",
        "t2 = time.clock()\n",
        "time_diff = t2 - t1\n",
        "print(f\"It took {time_diff} Secs to execute this method\") "
      ],
      "execution_count": 27,
      "outputs": [
        {
          "output_type": "stream",
          "text": [
            "It took 10.260849000000007 Secs to execute this method\n"
          ],
          "name": "stdout"
        }
      ]
    },
    {
      "cell_type": "markdown",
      "metadata": {
        "id": "6jS-EMbEQ-T-",
        "colab_type": "text"
      },
      "source": [
        "As we can see, time taken has been reduced quite a bit. This effect will be even more pronounced for larger inputs."
      ]
    },
    {
      "cell_type": "markdown",
      "metadata": {
        "id": "orIYW1sURK02",
        "colab_type": "text"
      },
      "source": [
        "### 9. Return Multiple Values From a Function\n",
        "Python has the ability to return multiple values from a function call, something missing from many other popular programming languages. In this case the return values should be a comma-separated list of values and Python then constructs a tuple and returns this to the caller. As an example see the code below:"
      ]
    },
    {
      "cell_type": "code",
      "metadata": {
        "id": "xfx1u_2BQ_Mv",
        "colab_type": "code",
        "colab": {
          "base_uri": "https://localhost:8080/",
          "height": 34
        },
        "outputId": "b25f9220-8405-4217-f22c-c618aae9c63b"
      },
      "source": [
        "def multiplication_division(num1, num2):\n",
        "    return num1*num2, num1/num2\n",
        "product, division = multiplication_division(15, 3)\n",
        "print(\"Product=\", product, \"Quotient =\", division) "
      ],
      "execution_count": 28,
      "outputs": [
        {
          "output_type": "stream",
          "text": [
            "Product= 45 Quotient = 5.0\n"
          ],
          "name": "stdout"
        }
      ]
    },
    {
      "cell_type": "markdown",
      "metadata": {
        "id": "9Uwqa8ZXRYy1",
        "colab_type": "text"
      },
      "source": [
        "### 10. Using sorted() Function\n",
        "Sorting any sequence is very easy in Python using the built-in method sorted()which does all the hard work for you. sorted()sorts any sequence (list, tuple) and always returns a list with the elements in sorted manner. Let’s take an example to sort a list of numbers in ascending order."
      ]
    },
    {
      "cell_type": "code",
      "metadata": {
        "id": "lTXduZ4rRapf",
        "colab_type": "code",
        "colab": {
          "base_uri": "https://localhost:8080/",
          "height": 34
        },
        "outputId": "35ab5015-efd6-4569-badb-eb96209a6adf"
      },
      "source": [
        "sorted([3,5,2,1,4]) "
      ],
      "execution_count": 29,
      "outputs": [
        {
          "output_type": "execute_result",
          "data": {
            "text/plain": [
              "[1, 2, 3, 4, 5]"
            ]
          },
          "metadata": {
            "tags": []
          },
          "execution_count": 29
        }
      ]
    },
    {
      "cell_type": "markdown",
      "metadata": {
        "id": "9IgdHL_BRkyd",
        "colab_type": "text"
      },
      "source": [
        "Taking another example, let’s sort a list of strings in descending order."
      ]
    },
    {
      "cell_type": "code",
      "metadata": {
        "id": "FIE704WoRlVR",
        "colab_type": "code",
        "colab": {
          "base_uri": "https://localhost:8080/",
          "height": 51
        },
        "outputId": "387a70e5-beb6-4279-87ec-c8ff40e292c8"
      },
      "source": [
        "Str1 = sorted(['france', 'germany', 'canada', 'india', 'china'], reverse=True)\n",
        "Str2 = sorted(['france', 'germany', 'canada', 'india', 'china'], reverse=False) # reverse = False is default\n",
        "print (Str1, end='\\n')\n",
        "print (Str2)"
      ],
      "execution_count": 32,
      "outputs": [
        {
          "output_type": "stream",
          "text": [
            "['india', 'germany', 'france', 'china', 'canada']\n",
            "['canada', 'china', 'france', 'germany', 'india']\n"
          ],
          "name": "stdout"
        }
      ]
    }
  ]
}